{
 "cells": [
  {
   "cell_type": "markdown",
   "metadata": {},
   "source": [
    "# Data Science - Python and Pandas\n",
    "\n",
    "\n",
    "## Table of Content\n",
    "\n",
    "1. [Introduction](#introduction)<br>\n",
    "1.1. [Series and DataFrames](#series)<br>\n",
    "1.2. [Indexing](#index)<br>\n",
    "1.3. [Data Selection](#selection)<br>\n",
    "2. [Transform data](#transform)<br>\n",
    "2.1. [Adding and deleting columns](#columns)<br>\n",
    "2.2. [Missing Data](#nans)<br>\n",
    "2.3. [Cleaning Data](#cleaning)<br>\n",
    "2.4. [Merging Data](#merging)<br>\n",
    "2.5. [Grouping Data](#grouping)<br>\n",
    "3. [Visualise data](#visualise)<br>\n",
    "4. [Excercises](#excercises)<br>\n",
    "\n"
   ]
  },
  {
   "cell_type": "markdown",
   "metadata": {},
   "source": [
    "Let's start with loading the packages and a quick look at some data. Select the below cell by clicking on it, and then click on the `Run` button at the top of the notebook (or use `Shift+Enter`). This is how you can run all code cells in this notebook. The numbers in front of the cells tell you in which order you have run them, for instance `[1]`. When you see a `[*]` the cell is currently running and `[]` means you have not run the cell yet. "
   ]
  },
  {
   "cell_type": "code",
   "execution_count": null,
   "metadata": {},
   "outputs": [],
   "source": [
    "%matplotlib inline\n",
    "\n",
    "import numpy as np\n",
    "import pandas as pd"
   ]
  },
  {
   "cell_type": "markdown",
   "metadata": {},
   "source": [
    "**ADD description on how download file, add to COS in github repo**\n",
    "\n",
    "**ADD how to insert a file from COS here** Data from: https://github.com/the-pudding/data/tree/master/pockets"
   ]
  },
  {
   "cell_type": "code",
   "execution_count": null,
   "metadata": {},
   "outputs": [],
   "source": [
    "jeans = pd.read_csv('jeans_measurements.csv')"
   ]
  },
  {
   "cell_type": "markdown",
   "metadata": {},
   "source": [
    "Use `?` to find out what the options are for a command. For `read_csv` there are more than 50:"
   ]
  },
  {
   "cell_type": "code",
   "execution_count": null,
   "metadata": {},
   "outputs": [],
   "source": [
    "?pd.read_csv"
   ]
  },
  {
   "cell_type": "markdown",
   "metadata": {},
   "source": [
    "Now let's have a look at the data that has been loaded into the notebook. Use `jeans`, `jeans.head()` or `jeans.tail()` to see different parts of the table and `jeans.dtypes` to see which variables there are and what datatype they have. Add a number between the brackets `()` to specify how many lines you want to display.\n",
    "\n",
    "> _Tip_: If you want to run these in separate cells, activate the below cell by clicking on it and then click on the `+` at the top of the notebook. This will add extra cells. Click on the upwards and downwards arrows to move the cells up and down to change to order. "
   ]
  },
  {
   "cell_type": "code",
   "execution_count": null,
   "metadata": {},
   "outputs": [],
   "source": [
    "jeans"
   ]
  },
  {
   "cell_type": "markdown",
   "metadata": {},
   "source": [
    "<div class=\"alert alert-success\">\n",
    " <b>EXERCISE</b> <br/> \n",
    " Explore the following commands:\n",
    "  <ul>\n",
    "  <li><font face=\"Courier\">jeans.columns</font></li>\n",
    "  <li><font face=\"Courier\">jeans.values</font></li>\n",
    "  <li><font face=\"Courier\">jeans.shape</font></li>\n",
    "  <li><font face=\"Courier\">len(jeans)</font></li>\n",
    "  \n",
    " </ul> \n",
    "</div>  "
   ]
  },
  {
   "cell_type": "code",
   "execution_count": null,
   "metadata": {},
   "outputs": [],
   "source": [
    "# try the commands here:\n"
   ]
  },
  {
   "cell_type": "markdown",
   "metadata": {},
   "source": [
    "<a id=\"introduction\"></a>\n",
    "## 1. Introduction\n",
    "\n",
    "The package we used to read this file and look at some of it's properties is [Pandas](https://pandas.pydata.org/), which is an open source library with easy-to-use data structures and data analysis tools. \n",
    "\n",
    "<div class=\"alert alert-info\" style=\"font-size:100%\">\n",
    "<b>Read this <a href=\"http://pandas.pydata.org/pandas-docs/stable/getting_started/10min.html\">10 minute introduction</a> for a quick overview of Pandas.<br>\n",
    "</div>\n",
    "\n",
    "<a id=\"series\"></a>\n",
    "### 1.1 Series and DataFrames \n",
    "\n",
    "Let's go through some of the basics of Pandas before going back to the Jeans dataset. Pandas has two main data structures: `Series` and `DataFrames`. \n",
    "\n",
    "A `Series` is a list of values with an integer index. The first column is the index (the default starts at 0) and the second column the values."
   ]
  },
  {
   "cell_type": "code",
   "execution_count": null,
   "metadata": {},
   "outputs": [],
   "source": [
    "s = pd.Series([1, 3, 5, np.nan, 6, 8])\n",
    "s"
   ]
  },
  {
   "cell_type": "markdown",
   "metadata": {},
   "source": [
    " A `DataFrame` is similar, but has multiple columns. You can create one in many ways, by loading a file or from for example a NumPy array and a date for the index. (We come back to the index and dates later) \n",
    "\n",
    "\n",
    "<div class=\"alert alert-info\" style=\"font-size:100%\">\n",
    "<b>Read this <a href=\"https://docs.scipy.org/doc/numpy-1.15.0/user/quickstart.html\"> tutorial</a> for an overview of NumPy.<br>\n",
    "</div>\n",
    "\n",
    "Two examples:"
   ]
  },
  {
   "cell_type": "code",
   "execution_count": null,
   "metadata": {},
   "outputs": [],
   "source": [
    "dates = pd.date_range('20130101', periods=6)\n",
    "dates"
   ]
  },
  {
   "cell_type": "code",
   "execution_count": null,
   "metadata": {},
   "outputs": [],
   "source": [
    "numbers = np.random.randn(6, 4)\n",
    "numbers"
   ]
  },
  {
   "cell_type": "code",
   "execution_count": null,
   "metadata": {},
   "outputs": [],
   "source": [
    "df = pd.DataFrame(numbers, index=dates, columns=list('ABCD'))\n",
    "df"
   ]
  },
  {
   "cell_type": "code",
   "execution_count": null,
   "metadata": {},
   "outputs": [],
   "source": [
    "df2 = pd.DataFrame({'A': 1.,\n",
    "                     'B': pd.Timestamp('20130102'),\n",
    "                     'C': pd.Series(1, index=list(range(4)), dtype='float32'),\n",
    "                     'D': np.array([3] * 4, dtype='int32'),\n",
    "                     'E': pd.Categorical([\"test\", \"train\", \"test\", \"train\"]),\n",
    "                     'F': 'foo'})"
   ]
  },
  {
   "cell_type": "code",
   "execution_count": null,
   "metadata": {},
   "outputs": [],
   "source": [
    "df2.head()"
   ]
  },
  {
   "cell_type": "markdown",
   "metadata": {},
   "source": [
    "To find out what the data type is of a variable use `type()`: "
   ]
  },
  {
   "cell_type": "code",
   "execution_count": null,
   "metadata": {},
   "outputs": [],
   "source": [
    "print('Data type of s is '+str(type(s)))\n",
    "print('Data type of s is '+str(type(dates)))\n",
    "print('Data type of s is '+str(type(numbers)))\n",
    "print('Data type of df is '+str(type(df)))"
   ]
  },
  {
   "cell_type": "code",
   "execution_count": null,
   "metadata": {},
   "outputs": [],
   "source": [
    "type(jeans)"
   ]
  },
  {
   "cell_type": "markdown",
   "metadata": {},
   "source": [
    "<a id=\"index\"></a>\n",
    "### 1.2 Indexing \n",
    "\n",
    "It is important to understand the `index` to work with dataframes, so let's explore this a little further. \n",
    "\n",
    "For this we will create a new DataFrame with the population of the 5 largst cities in the UK ([source](https://en.wikipedia.org/wiki/List_of_urban_areas_in_the_United_Kingdom)). `data` is a [dictionary](https://realpython.com/python-dicts/)."
   ]
  },
  {
   "cell_type": "code",
   "execution_count": null,
   "metadata": {},
   "outputs": [],
   "source": [
    "data = {'city':       ['London','Manchester','Birmingham','Leeds','Glasgow'],\n",
    "        'population': [9787426,  2553379,     2440986,    1777934,1209143],\n",
    "        'area':       [1737.9,   630.3,       598.9,      487.8,  368.5 ]}\n",
    "cities = pd.DataFrame(data)\n",
    "cities"
   ]
  },
  {
   "cell_type": "code",
   "execution_count": null,
   "metadata": {},
   "outputs": [],
   "source": [
    "cities.index"
   ]
  },
  {
   "cell_type": "code",
   "execution_count": null,
   "metadata": {},
   "outputs": [],
   "source": [
    "cities.columns"
   ]
  },
  {
   "cell_type": "code",
   "execution_count": null,
   "metadata": {},
   "outputs": [],
   "source": [
    "cities = cities.set_index('city')\n",
    "cities"
   ]
  },
  {
   "cell_type": "code",
   "execution_count": null,
   "metadata": {},
   "outputs": [],
   "source": [
    "cities = cities.reset_index()\n",
    "cities = cities.set_index(['city','population'])\n",
    "cities"
   ]
  },
  {
   "cell_type": "code",
   "execution_count": null,
   "metadata": {},
   "outputs": [],
   "source": [
    "cities = cities.reset_index()\n",
    "cities = cities.set_index('city')\n",
    "cities"
   ]
  },
  {
   "cell_type": "markdown",
   "metadata": {},
   "source": [
    "<a id=\"selection\"></a>\n",
    "### 1.3 Data Selection"
   ]
  },
  {
   "cell_type": "markdown",
   "metadata": {},
   "source": [
    "Select a single number or a range of numbers by label with `.loc[]` (This only works for the column that was set to the index):"
   ]
  },
  {
   "cell_type": "code",
   "execution_count": null,
   "metadata": {},
   "outputs": [],
   "source": [
    "cities.loc['London', 'area']"
   ]
  },
  {
   "cell_type": "code",
   "execution_count": null,
   "metadata": {},
   "outputs": [],
   "source": [
    "cities.loc['Manchester':'Leeds', ['area', 'population']]"
   ]
  },
  {
   "cell_type": "markdown",
   "metadata": {},
   "source": [
    "Or select by position with `.iloc[]`. You can select a single row, multiple rows (or columns) at particular positions in the index, it only takes integers:"
   ]
  },
  {
   "cell_type": "code",
   "execution_count": null,
   "metadata": {},
   "outputs": [],
   "source": [
    "cities.iloc[0]"
   ]
  },
  {
   "cell_type": "code",
   "execution_count": null,
   "metadata": {},
   "outputs": [],
   "source": [
    "cities.iloc[:,1]"
   ]
  },
  {
   "cell_type": "code",
   "execution_count": null,
   "metadata": {},
   "outputs": [],
   "source": [
    "cities.iloc[:,0:2]"
   ]
  },
  {
   "cell_type": "code",
   "execution_count": null,
   "metadata": {},
   "outputs": [],
   "source": [
    "cities.iloc[2:4,0:2]"
   ]
  },
  {
   "cell_type": "markdown",
   "metadata": {},
   "source": [
    "You can also use one or more column names to create a new DataFrame."
   ]
  },
  {
   "cell_type": "code",
   "execution_count": null,
   "metadata": {},
   "outputs": [],
   "source": [
    "cities['area']"
   ]
  },
  {
   "cell_type": "code",
   "execution_count": null,
   "metadata": {},
   "outputs": [],
   "source": [
    "cities2 = cities[['area','population']]\n",
    "cities2"
   ]
  },
  {
   "cell_type": "markdown",
   "metadata": {},
   "source": [
    "#### Filtering\n",
    "\n",
    "Selecting rows based on a certain condition can be done with Boolean indexing:"
   ]
  },
  {
   "cell_type": "code",
   "execution_count": null,
   "metadata": {},
   "outputs": [],
   "source": [
    "cities['area'] > 500"
   ]
  },
  {
   "cell_type": "code",
   "execution_count": null,
   "metadata": {},
   "outputs": [],
   "source": [
    "cities[cities['area'] > 500]"
   ]
  },
  {
   "cell_type": "code",
   "execution_count": null,
   "metadata": {},
   "outputs": [],
   "source": [
    "cities[(cities['area'] > 500) & (cities['population'] > 2500000)]"
   ]
  },
  {
   "cell_type": "code",
   "execution_count": null,
   "metadata": {},
   "outputs": [],
   "source": [
    "cities[(cities['area'] < 500) | (cities['population'] < 1000000)]"
   ]
  },
  {
   "cell_type": "code",
   "execution_count": null,
   "metadata": {},
   "outputs": [],
   "source": [
    "cities[cities['area'] == 487.8] "
   ]
  },
  {
   "cell_type": "markdown",
   "metadata": {},
   "source": [
    "<div class=\"alert alert-success\">\n",
    " <b>EXERCISE</b> <br/> \n",
    " Using the jeans DataFrame:\n",
    "  <ul>\n",
    "  <li>Find the most expensive jeans</li>  \n",
    "  <li>Find the cheapest jeans</li>\n",
    "  <li>What is the difference in price between the cheapest and most expensive jeans?</li>    \n",
    " </ul>  \n",
    "</div>  \n",
    "\n",
    "> *Tips*: \n",
    "- Find the maximum of a row with for instance `jeans['price'].max()` \n",
    "- Extract the value from a cell in a DataFrame with `.value[]`\n",
    "- To see the answer uncomment the line in the cells that contain %load (remove the `#`) and run the cell, but try to find your own solution first in the cell above the solution!"
   ]
  },
  {
   "cell_type": "code",
   "execution_count": null,
   "metadata": {},
   "outputs": [],
   "source": [
    "# most expensive jeans\n"
   ]
  },
  {
   "cell_type": "code",
   "execution_count": null,
   "metadata": {},
   "outputs": [],
   "source": [
    "# %load https://raw.githubusercontent.com/IBMDeveloperUK/pandas-workshop/master/answers/answer1.py\n",
    "jeans[jeans['price'] == jeans['price'].max()]\n"
   ]
  },
  {
   "cell_type": "code",
   "execution_count": null,
   "metadata": {},
   "outputs": [],
   "source": [
    "# cheapest jeans\n"
   ]
  },
  {
   "cell_type": "code",
   "execution_count": null,
   "metadata": {},
   "outputs": [],
   "source": [
    "# %load https://raw.githubusercontent.com/IBMDeveloperUK/pandas-workshop/master/answers/answer2.py"
   ]
  },
  {
   "cell_type": "code",
   "execution_count": null,
   "metadata": {},
   "outputs": [],
   "source": [
    "# difference in price\n",
    "expensive = (jeans['price'][jeans['price'] == jeans['price'].max()]).values[0]\n",
    "cheap = (jeans['price'][jeans['price'] == jeans['price'].min()]).values[0]\n",
    "\n",
    "expensive - cheap"
   ]
  },
  {
   "cell_type": "code",
   "execution_count": null,
   "metadata": {},
   "outputs": [],
   "source": [
    "# %load https://raw.githubusercontent.com/IBMDeveloperUK/pandas-workshop/master/answers/answer3.py"
   ]
  },
  {
   "cell_type": "markdown",
   "metadata": {},
   "source": [
    "<a id=\"transform\"></a>\n",
    "## 2. Transform Data\n",
    "\n",
    "When looking at date there are always transformations needed to get it in the format you need for your anlysis, visulasations and machine learning models. This is an important skill to master!\n",
    "\n",
    "These are a few examples of the endless possibilities. The best way to learn is to find a dataset and try to answer questions that you could answer with the data. \n",
    "\n",
    "<a id=\"columns\"></a>\n",
    "### 2.1 Adding and deleting columns\n",
    "Adding a column can be done by defining a new column, which can then be dropped with 'drop'. "
   ]
  },
  {
   "cell_type": "code",
   "execution_count": null,
   "metadata": {},
   "outputs": [],
   "source": [
    "jeans['new'] = 1\n",
    "jeans = jeans.drop(columns=['new'])"
   ]
  },
  {
   "cell_type": "code",
   "execution_count": null,
   "metadata": {},
   "outputs": [],
   "source": [
    "jeans['avgHeightFront'] = (jeans.maxHeightFront + jeans.minHeightFront) / 2"
   ]
  },
  {
   "cell_type": "code",
   "execution_count": null,
   "metadata": {},
   "outputs": [],
   "source": [
    "jeans.head()"
   ]
  },
  {
   "cell_type": "markdown",
   "metadata": {},
   "source": [
    "<a id=\"nans\"></a>\n",
    "### 2.2 Missing Data\n",
    "\n",
    "As there is no missing data in the jeans dataset let's create a copy of the data and add some. You have to add `.copy()` else all changes made to `jeans2` will also be made to `jeans`. "
   ]
  },
  {
   "cell_type": "code",
   "execution_count": null,
   "metadata": {},
   "outputs": [],
   "source": [
    "jeans2 = jeans.copy()"
   ]
  },
  {
   "cell_type": "code",
   "execution_count": null,
   "metadata": {},
   "outputs": [],
   "source": [
    "jeans2.iloc[[2,3,9],5] = 'NaN'\n",
    "jeans2.iloc[[44,2,11],9] = 'NaN'\n",
    "jeans2.iloc[[5,12,13,22,44,45],16] = 'NaN'"
   ]
  },
  {
   "cell_type": "markdown",
   "metadata": {},
   "source": [
    "There are several ways to handle these missing values. Delete the rows that contain them:"
   ]
  },
  {
   "cell_type": "code",
   "execution_count": null,
   "metadata": {},
   "outputs": [],
   "source": []
  },
  {
   "cell_type": "code",
   "execution_count": null,
   "metadata": {},
   "outputs": [],
   "source": [
    "Fill them with for instance the average of the column, or any other value"
   ]
  },
  {
   "cell_type": "code",
   "execution_count": null,
   "metadata": {},
   "outputs": [],
   "source": []
  },
  {
   "cell_type": "markdown",
   "metadata": {},
   "source": [
    "<a id=\"cleaning\"></a>\n",
    "### 2.3 Cleaning Data\n"
   ]
  },
  {
   "cell_type": "code",
   "execution_count": null,
   "metadata": {},
   "outputs": [],
   "source": [
    "# menWomen to two columns with 0 and 1"
   ]
  },
  {
   "cell_type": "code",
   "execution_count": null,
   "metadata": {},
   "outputs": [],
   "source": [
    "# fabric to multiple columns"
   ]
  },
  {
   "cell_type": "markdown",
   "metadata": {},
   "source": [
    "<a id=\"merging\"></a>\n",
    "### 2.4 Merging Data\n"
   ]
  },
  {
   "cell_type": "code",
   "execution_count": null,
   "metadata": {},
   "outputs": [],
   "source": [
    "# merge data"
   ]
  },
  {
   "cell_type": "markdown",
   "metadata": {},
   "source": [
    "<a id=\"grouping\"></a>\n",
    "### 2.5 Grouping Data\n"
   ]
  },
  {
   "cell_type": "code",
   "execution_count": null,
   "metadata": {},
   "outputs": [],
   "source": [
    "# group data"
   ]
  },
  {
   "cell_type": "markdown",
   "metadata": {},
   "source": [
    "<div class=\"alert alert-success\">\n",
    " <b>EXERCISE</b> <br/> \n",
    " Using the jeans DataFrame:\n",
    "  <ul>\n",
    "  <li>Add a column `FrontArea` with the area of the front pocket (height X width) </li>        \n",
    "  <li>Add a column `BackArea` with the area of the back pocket (height X width) </li>        \n",
    "  <li>How many styles of jeans are there?</li>        \n",
    "  <li>How many men and women's jeans are measured? And what are the average front and back pocket sizes of each?</li>  \n",
    " </ul>  \n",
    "</div>  \n",
    "\n",
    "> *Tips*: \n",
    "- To find out how many unique values there are in a column use `np.unique(df['a'])`"
   ]
  },
  {
   "cell_type": "code",
   "execution_count": null,
   "metadata": {},
   "outputs": [],
   "source": [
    "# FrontArea"
   ]
  },
  {
   "cell_type": "code",
   "execution_count": null,
   "metadata": {},
   "outputs": [],
   "source": [
    "# BackArea"
   ]
  },
  {
   "cell_type": "code",
   "execution_count": null,
   "metadata": {},
   "outputs": [],
   "source": [
    "# unique number of jeans styles\n",
    "len(np.unique(jeans['style']))"
   ]
  },
  {
   "cell_type": "code",
   "execution_count": null,
   "metadata": {},
   "outputs": [],
   "source": []
  },
  {
   "cell_type": "code",
   "execution_count": null,
   "metadata": {},
   "outputs": [],
   "source": []
  },
  {
   "cell_type": "markdown",
   "metadata": {},
   "source": [
    "<a id=\"explore\"></a>\n",
    "## 3. Visualizing Data"
   ]
  },
  {
   "cell_type": "markdown",
   "metadata": {},
   "source": [
    "### Time Series"
   ]
  },
  {
   "cell_type": "code",
   "execution_count": null,
   "metadata": {},
   "outputs": [],
   "source": []
  },
  {
   "cell_type": "code",
   "execution_count": null,
   "metadata": {},
   "outputs": [],
   "source": [
    "# sort, groupBy"
   ]
  },
  {
   "cell_type": "markdown",
   "metadata": {},
   "source": [
    "<div class=\"alert alert-success\">\n",
    " <b>EXERCISE</b>\n",
    " <ul>\n",
    "  <li>Are mens or womens jeans more expensive?</li>\n",
    "  <li>Which brand has the most styles of jeans?</li>\n",
    "  <li></li>\n",
    " </ul> \n",
    " \n",
    "</div>    "
   ]
  },
  {
   "cell_type": "code",
   "execution_count": null,
   "metadata": {},
   "outputs": [],
   "source": []
  },
  {
   "cell_type": "code",
   "execution_count": null,
   "metadata": {},
   "outputs": [],
   "source": []
  }
 ],
 "metadata": {
  "kernelspec": {
   "display_name": "Python 3",
   "language": "python",
   "name": "python3"
  },
  "language_info": {
   "codemirror_mode": {
    "name": "ipython",
    "version": 3
   },
   "file_extension": ".py",
   "mimetype": "text/x-python",
   "name": "python",
   "nbconvert_exporter": "python",
   "pygments_lexer": "ipython3",
   "version": "3.7.1"
  }
 },
 "nbformat": 4,
 "nbformat_minor": 2
}
